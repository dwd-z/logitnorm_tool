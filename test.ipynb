{
 "cells": [
  {
   "cell_type": "code",
   "execution_count": 1,
   "metadata": {},
   "outputs": [
    {
     "name": "stdout",
     "output_type": "stream",
     "text": [
      "method_name: cifar10_wrn_normal_standard\n"
     ]
    }
   ],
   "source": [
    "import torch\n",
    "import torch.nn as nn\n",
    "import torch.nn.functional as F\n",
    "from torch.autograd import Variable\n",
    "import numpy as np\n",
    "import torch.backends.cudnn as cudnn\n",
    "from datasets.utils import build_dataset, get_ood_dataloaders\n",
    "from models.utils import build_model\n",
    "from utils.eval import *\n",
    "from utils.loss import LogitNormLoss\n",
    "from utils.posthoc import get_optimal_temperature\n",
    "\n",
    "\n",
    "seed = 1\n",
    "num_to_avg = 10\n",
    "gpu = 0\n",
    "model_type = 'wrn'\n",
    "loss_function = 'normal'\n",
    "dataset =  'cifar10'\n",
    "method_name = '_'.join([dataset, model_type, loss_function, 'standard'])\n",
    "print(\"method_name: \" + method_name)\n",
    "\n",
    "ood_score = 'MSP'\n",
    "test_bs = 200\n",
    "num_classes = 10\n",
    "input_size = 32\n",
    "input_channels = 3\n",
    "mean=(0.492, 0.482, 0.446)\n",
    "std=(0.247, 0.244, 0.262)\n",
    "\n",
    "prefetch_threads = 4\n",
    "save_path = './snapshots/'\n"
   ]
  },
  {
   "cell_type": "code",
   "execution_count": 2,
   "metadata": {},
   "outputs": [
    {
     "name": "stdout",
     "output_type": "stream",
     "text": [
      "Model restored! Epoch: 199\n",
      "Files already downloaded and verified\n",
      "Before temperature - NLL: 0.205, ECE: 0.031\n",
      "Optimal temperature: 1.541\n",
      "After temperature - NLL: 0.168, ECE: 0.010\n"
     ]
    }
   ],
   "source": [
    "torch.manual_seed(seed)\n",
    "np.random.seed(seed)\n",
    "cudnn.benchmark = True  # fire on all cylinders\n",
    "\n",
    "if gpu is not None:\n",
    "    device = torch.device('cuda:{}'.format(int(gpu)))\n",
    "    torch.cuda.manual_seed(seed)\n",
    "else:\n",
    "    device = torch.device('cpu')\n",
    "\n",
    "# Create model and load weights from .pt file\n",
    "net = build_model(model_type, num_classes, device, load=True, path=save_path, filename=method_name)\n",
    "\n",
    "net.eval()\n",
    "cudnn.benchmark = True  # fire on all cylinders\n",
    "\n",
    "# load ID test dataset\n",
    "test_data = build_dataset(dataset, mode=\"test\", size=input_size, channels=input_channels,\n",
    "                          mean=mean, std=std)\n",
    "test_loader = torch.utils.data.DataLoader(test_data, batch_size=test_bs, shuffle=False,\n",
    "                                          num_workers=prefetch_threads, pin_memory=True)\n",
    "\n",
    "# optimize the temperature scale T with the test dataset\n",
    "optimal_t = get_optimal_temperature(net, test_loader, device)\n"
   ]
  },
  {
   "cell_type": "code",
   "execution_count": 4,
   "metadata": {},
   "outputs": [
    {
     "name": "stdout",
     "output_type": "stream",
     "text": [
      "Files already downloaded and verified\n",
      "Error Rate 5.26\n",
      "\t\t\t\tcifar10_wrn_normal_standard\n",
      "FPR95:\t\t\t34.22\n",
      "AUROC: \t\t\t92.85\n",
      "AUPR:  \t\t\t99.50\n",
      "\n",
      "\n",
      "ECE Error\n",
      "ECE Error 1.00\n",
      "\n",
      "\n",
      "MNIST Detection\n"
     ]
    }
   ],
   "source": [
    "# /////////////// OOD Detection ///////////////\n",
    "ood_num_examples = len(test_data) // 5\n",
    "OOD_data_list = [\"MNIST\", \"GTSRB\", \"Textures\", \"SVHN\", \"Places365\", \"LSUN-C\", \"LSUN-R\", \"cifar10\"] #  \"Gaussian\"\n",
    "\n",
    "ood_loader_dict = get_ood_dataloaders(OOD_data_list, input_size=input_size, input_channels=input_channels, \n",
    "                                      mean=mean, std=std, test_bs=test_bs, prefetch_threads=prefetch_threads)\n",
    "\n",
    "\n",
    "get_all_measures(net, test_loader, ood_loader_dict, ood_num_examples, device, optimal_t, ood_score, \n",
    "                     recall_level=0.95, test_bs=test_bs, to_string=True, method_name=method_name)"
   ]
  }
 ],
 "metadata": {
  "kernelspec": {
   "display_name": "Python 3",
   "language": "python",
   "name": "python3"
  },
  "language_info": {
   "codemirror_mode": {
    "name": "ipython",
    "version": 3
   },
   "file_extension": ".py",
   "mimetype": "text/x-python",
   "name": "python",
   "nbconvert_exporter": "python",
   "pygments_lexer": "ipython3",
   "version": "3.10.6"
  },
  "orig_nbformat": 4,
  "vscode": {
   "interpreter": {
    "hash": "916dbcbb3f70747c44a77c7bcd40155683ae19c65e1c03b4aa3499c5328201f1"
   }
  }
 },
 "nbformat": 4,
 "nbformat_minor": 2
}
