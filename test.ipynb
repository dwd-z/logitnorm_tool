{
 "cells": [
  {
   "cell_type": "code",
   "execution_count": 1,
   "metadata": {},
   "outputs": [
    {
     "name": "stdout",
     "output_type": "stream",
     "text": [
      "method_name: cifar10_wrn_normal_standard\n"
     ]
    }
   ],
   "source": [
    "import torch\n",
    "import torch.nn as nn\n",
    "import torch.nn.functional as F\n",
    "from torch.autograd import Variable\n",
    "import numpy as np\n",
    "import torch.backends.cudnn as cudnn\n",
    "from datasets.utils import build_dataset, get_ood_dataloaders\n",
    "from models.utils import build_model\n",
    "from utils.eval import *\n",
    "from utils.loss import LogitNormLoss\n",
    "\n",
    "\n",
    "gpu = 0         # gpu id, use cpu if None\n",
    "seed = 1        # random seed\n",
    "num_to_avg = 10 # number of trials with random images in OOD datasets to calculate the average performance scores\n",
    "\n",
    "model_type = 'wrn'          # model name\n",
    "loss_function = 'normal'    # loss function\n",
    "dataset =  'cifar10'        # training dataset\n",
    "\n",
    "# file name to save the weights and training infomation\n",
    "method_name = '_'.join([dataset, model_type, loss_function, 'standard'])\n",
    "print(\"method_name: \" + method_name)\n",
    "\n",
    "score_function = 'MSP'   # post-hoc score function used for OOD detection\n",
    "test_bs = 200       # batch size for training and testing \n",
    "num_classes = 10    # number of classes of the training dataset\n",
    "input_size = 32     # input image size for the model\n",
    "input_channels = 3  # number of input image channels for the model\n",
    "mean=(0.492, 0.482, 0.446) # mean value for normalization of input images\n",
    "std=(0.247, 0.244, 0.262)  # standard deviation for normalization of input images\n",
    "prefetch_threads = 4       # number of threads used for input image preprocessing\n",
    "save_path = './snapshots/' # folder path to save the weights and training information\n"
   ]
  },
  {
   "cell_type": "code",
   "execution_count": 2,
   "metadata": {},
   "outputs": [
    {
     "name": "stdout",
     "output_type": "stream",
     "text": [
      "Model restored! Epoch: 199\n",
      "Files already downloaded and verified\n"
     ]
    }
   ],
   "source": [
    "# initiate the device\n",
    "if gpu is not None:\n",
    "    device = torch.device('cuda:{}'.format(int(gpu)))\n",
    "    torch.cuda.manual_seed(seed)\n",
    "else:\n",
    "    device = torch.device('cpu')\n",
    "\n",
    "torch.manual_seed(seed)\n",
    "np.random.seed(seed)\n",
    "\n",
    "# Create model and load weights from .pt file\n",
    "net = build_model(model_type, num_classes, device, load=True, path=save_path, filename=method_name)\n",
    "\n",
    "net.eval()\n",
    "cudnn.benchmark = True  # fire on all cylinders\n",
    "\n",
    "# load ID test dataset\n",
    "test_data = build_dataset(dataset, mode=\"test\", size=input_size, channels=input_channels,\n",
    "                          mean=mean, std=std)\n",
    "test_loader = torch.utils.data.DataLoader(test_data, batch_size=test_bs, shuffle=False,\n",
    "                                          num_workers=prefetch_threads, pin_memory=True)\n"
   ]
  },
  {
   "cell_type": "code",
   "execution_count": 3,
   "metadata": {},
   "outputs": [
    {
     "name": "stdout",
     "output_type": "stream",
     "text": [
      "Before temperature - NLL: 0.205, ECE: 0.031\n",
      "Optimal temperature: 1.541\n",
      "After temperature - NLL: 0.168, ECE: 0.010\n",
      "Error Rate 5.26\n",
      "\t\t\t\tcifar10_wrn_normal_standard\n",
      "FPR95:\t\t\t34.22\n",
      "AUROC: \t\t\t92.85\n",
      "AUPR:  \t\t\t99.50\n",
      "\n",
      "\n",
      "ECE Error\n",
      "ECE Error 1.00\n",
      "Before temperature - NLL: 0.205, ECE: 0.031\n",
      "Optimal temperature: 1.541\n",
      "After temperature - NLL: 0.168, ECE: 0.010\n",
      "\n",
      "\n",
      "MNIST Detection\n",
      "\t\t\t\tcifar10_wrn_normal_standard\n",
      "FPR95:\t\t\t37.72\t+/- 0.85\n",
      "AUROC: \t\t\t94.58\t+/- 0.12\n",
      "AUPR:  \t\t\t98.90\t+/- 0.03\n",
      "\n",
      "\n",
      "GTSRB Detection\n",
      "\t\t\t\tcifar10_wrn_normal_standard\n",
      "FPR95:\t\t\t54.56\t+/- 1.11\n",
      "AUROC: \t\t\t91.00\t+/- 0.22\n",
      "AUPR:  \t\t\t98.06\t+/- 0.06\n",
      "\n",
      "\n",
      "Textures Detection\n",
      "\t\t\t\tcifar10_wrn_normal_standard\n",
      "FPR95:\t\t\t55.62\t+/- 0.64\n",
      "AUROC: \t\t\t87.30\t+/- 0.30\n",
      "AUPR:  \t\t\t96.34\t+/- 0.15\n",
      "\n",
      "\n",
      "SVHN Detection\n",
      "\t\t\t\tcifar10_wrn_normal_standard\n",
      "FPR95:\t\t\t29.72\t+/- 0.94\n",
      "AUROC: \t\t\t95.24\t+/- 0.12\n",
      "AUPR:  \t\t\t98.95\t+/- 0.05\n",
      "\n",
      "\n",
      "Places365 Detection\n",
      "\t\t\t\tcifar10_wrn_normal_standard\n",
      "FPR95:\t\t\t55.56\t+/- 1.38\n",
      "AUROC: \t\t\t87.14\t+/- 0.46\n",
      "AUPR:  \t\t\t96.42\t+/- 0.21\n",
      "\n",
      "\n",
      "Mean Test Results\n",
      "\t\t\t\tcifar10_wrn_normal_standard\n",
      "FPR95:\t\t\t46.64\n",
      "AUROC: \t\t\t91.05\n",
      "AUPR:  \t\t\t97.73\n"
     ]
    }
   ],
   "source": [
    "# load OOD test datasets\n",
    "ood_num_examples = len(test_data) // 5\n",
    "ood_data_list = [\"MNIST\", \"GTSRB\", \"Textures\", \"SVHN\", \"Places365\"] # name of OOD datasets to load\n",
    "ood_loader_dict = get_ood_dataloaders(ood_data_list, input_size=input_size, input_channels=input_channels, \n",
    "                                      mean=mean, std=std, test_bs=test_bs, prefetch_threads=prefetch_threads)\n",
    "\n",
    "# get and print all the ID and OOD detection performance measures of the model\n",
    "error_rate, ece_error, auroc, aupr, fpr, auroc_list, aupr_list, fpr_list = get_all_measures(\n",
    "    net, test_loader, ood_loader_dict, device, temp='optimal', score_function=score_function, \n",
    "    recall_level=0.95, ood_num_examples=ood_num_examples, test_bs=test_bs, to_string=True, \n",
    "    method_name=method_name)"
   ]
  }
 ],
 "metadata": {
  "kernelspec": {
   "display_name": "Python 3",
   "language": "python",
   "name": "python3"
  },
  "language_info": {
   "codemirror_mode": {
    "name": "ipython",
    "version": 3
   },
   "file_extension": ".py",
   "mimetype": "text/x-python",
   "name": "python",
   "nbconvert_exporter": "python",
   "pygments_lexer": "ipython3",
   "version": "3.10.6 (main, Nov 14 2022, 16:10:14) [GCC 11.3.0]"
  },
  "orig_nbformat": 4,
  "vscode": {
   "interpreter": {
    "hash": "916dbcbb3f70747c44a77c7bcd40155683ae19c65e1c03b4aa3499c5328201f1"
   }
  }
 },
 "nbformat": 4,
 "nbformat_minor": 2
}
