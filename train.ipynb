{
 "cells": [
  {
   "cell_type": "code",
   "execution_count": 9,
   "metadata": {},
   "outputs": [
    {
     "name": "stdout",
     "output_type": "stream",
     "text": [
      "method_name: cifar100_wrn_logitnorm_standard\n"
     ]
    }
   ],
   "source": [
    "import torch\n",
    "import torch.nn as nn\n",
    "import torch.nn.functional as F\n",
    "from torch.autograd import Variable\n",
    "import numpy as np\n",
    "import torch.backends.cudnn as cudnn\n",
    "from datasets.utils import build_dataset\n",
    "from models.utils import build_model, train_model, SingleModel\n",
    "\n",
    "\n",
    "seed = 1        # random seed\n",
    "\n",
    "model_type = 'wrn'          # model name\n",
    "loss_function = 'logitnorm'    # loss function\n",
    "dataset =  'cifar100'        # training dataset\n",
    "num_classes = 100    # number of classes of the training dataset\n",
    "\n",
    "# file name to save the weights and training infomation\n",
    "method_name = '_'.join([dataset, model_type, loss_function, 'standard'])\n",
    "print(\"method_name: \" + method_name)\n",
    "\n",
    "test_bs = 200       # batch size for training and testing \n",
    "train_bs = 128       # batch size for training and testing \n",
    "input_size = 32     # input image size for the model\n",
    "input_channels = 3  # number of input image channels for the model\n",
    "mean = (0.492, 0.482, 0.446) # mean value for normalization of input images\n",
    "std = (0.247, 0.244, 0.262)  # standard deviation for normalization of input images\n",
    "prefetch_threads = 4       # number of threads used for input image preprocessing\n",
    "save_path = './snapshots/' # folder path to save the weights and training information\n",
    "\n",
    "epochs = 200             # number of epochs to train the model \n",
    "learning_rate = 0.1     # learning rate for model training\n",
    "momentum = 0.9          # momentum for model training\n",
    "weight_decay = 0.0005   # weight decay for model training\n",
    "logitnorm_temperature = 0.01 # temperature scale of LogitNorm for model training"
   ]
  },
  {
   "cell_type": "code",
   "execution_count": 7,
   "metadata": {},
   "outputs": [
    {
     "name": "stdout",
     "output_type": "stream",
     "text": [
      "device: cuda\n",
      "Files already downloaded and verified\n",
      "Files already downloaded and verified\n"
     ]
    }
   ],
   "source": [
    "\n",
    "device = torch.device('cuda' if torch.cuda.is_available() else 'cpu')\n",
    "# device = torch.device('cpu')\n",
    "\n",
    "print('device:', device)\n",
    "torch.cuda.manual_seed(seed)\n",
    "torch.manual_seed(seed)\n",
    "np.random.seed(seed)\n",
    "\n",
    "# create model\n",
    "net = build_model(model_type, num_classes, device, load=False, path=save_path, filename=method_name)\n",
    "\n",
    "# load training dataset\n",
    "train_data = build_dataset(dataset, mode=\"train\", size=input_size, channels=input_channels,\n",
    "                           mean=mean, std=std)\n",
    "train_loader = torch.utils.data.DataLoader(train_data, batch_size=train_bs, shuffle=True,\n",
    "                                           num_workers=prefetch_threads, pin_memory=True,\n",
    "                                           drop_last=True)\n",
    "\n",
    "# load ID test dataset for validation\n",
    "test_data = build_dataset(dataset, mode=\"test\", size=input_size, channels=input_channels,\n",
    "                          mean=mean, std=std)\n",
    "test_loader = torch.utils.data.DataLoader(test_data, batch_size=test_bs, shuffle=False,\n",
    "                                          num_workers=prefetch_threads, pin_memory=True,\n",
    "                                          drop_last=True)\n",
    "\n",
    "# build training framework\n",
    "framework = SingleModel(net, device, loss_function, learning_rate, momentum, weight_decay, \n",
    "                        logitnorm_temp=logitnorm_temperature)\n",
    "\n"
   ]
  },
  {
   "cell_type": "code",
   "execution_count": 8,
   "metadata": {},
   "outputs": [
    {
     "name": "stderr",
     "output_type": "stream",
     "text": [
      "  0%|          | 0/390 [00:00<?, ?it/s]"
     ]
    },
    {
     "name": "stdout",
     "output_type": "stream",
     "text": [
      "Beginning Training\n",
      "\n"
     ]
    },
    {
     "name": "stderr",
     "output_type": "stream",
     "text": [
      "100%|██████████| 390/390 [02:01<00:00,  3.21it/s]\n",
      "  0%|          | 0/390 [00:00<?, ?it/s]"
     ]
    },
    {
     "name": "stdout",
     "output_type": "stream",
     "text": [
      "Epoch   1 | Time   150 | Train Loss 1.5801 | Test Loss 4.620 | Test acc 35.99\n"
     ]
    },
    {
     "name": "stderr",
     "output_type": "stream",
     "text": [
      "100%|██████████| 390/390 [03:34<00:00,  1.82it/s]\n",
      "  0%|          | 0/390 [00:00<?, ?it/s]"
     ]
    },
    {
     "name": "stdout",
     "output_type": "stream",
     "text": [
      "Epoch   2 | Time   230 | Train Loss 1.3486 | Test Loss 3.019 | Test acc 49.47\n"
     ]
    },
    {
     "name": "stderr",
     "output_type": "stream",
     "text": [
      "100%|██████████| 390/390 [04:02<00:00,  1.61it/s]\n",
      "  0%|          | 0/390 [00:00<?, ?it/s]"
     ]
    },
    {
     "name": "stdout",
     "output_type": "stream",
     "text": [
      "Epoch   3 | Time   254 | Train Loss 1.1392 | Test Loss 2.098 | Test acc 55.25\n"
     ]
    },
    {
     "name": "stderr",
     "output_type": "stream",
     "text": [
      "100%|██████████| 390/390 [03:21<00:00,  1.93it/s]\n",
      "  0%|          | 0/390 [00:00<?, ?it/s]"
     ]
    },
    {
     "name": "stdout",
     "output_type": "stream",
     "text": [
      "Epoch   4 | Time   214 | Train Loss 0.9978 | Test Loss 1.068 | Test acc 67.17\n"
     ]
    },
    {
     "name": "stderr",
     "output_type": "stream",
     "text": [
      "100%|██████████| 390/390 [03:38<00:00,  1.79it/s]\n",
      "  0%|          | 0/390 [00:00<?, ?it/s]"
     ]
    },
    {
     "name": "stdout",
     "output_type": "stream",
     "text": [
      "Epoch   5 | Time   230 | Train Loss 0.8455 | Test Loss 1.049 | Test acc 66.83\n"
     ]
    },
    {
     "name": "stderr",
     "output_type": "stream",
     "text": [
      "100%|██████████| 390/390 [03:36<00:00,  1.80it/s]\n",
      "  0%|          | 0/390 [00:00<?, ?it/s]"
     ]
    },
    {
     "name": "stdout",
     "output_type": "stream",
     "text": [
      "Epoch   6 | Time   229 | Train Loss 0.8028 | Test Loss 0.804 | Test acc 72.53\n"
     ]
    },
    {
     "name": "stderr",
     "output_type": "stream",
     "text": [
      "100%|██████████| 390/390 [03:33<00:00,  1.83it/s]\n",
      "  0%|          | 0/390 [00:00<?, ?it/s]"
     ]
    },
    {
     "name": "stdout",
     "output_type": "stream",
     "text": [
      "Epoch   7 | Time   225 | Train Loss 0.6866 | Test Loss 0.868 | Test acc 72.26\n"
     ]
    },
    {
     "name": "stderr",
     "output_type": "stream",
     "text": [
      "100%|██████████| 390/390 [03:12<00:00,  2.03it/s]\n",
      "  0%|          | 0/390 [00:00<?, ?it/s]"
     ]
    },
    {
     "name": "stdout",
     "output_type": "stream",
     "text": [
      "Epoch   8 | Time   201 | Train Loss 0.6762 | Test Loss 0.871 | Test acc 76.03\n"
     ]
    },
    {
     "name": "stderr",
     "output_type": "stream",
     "text": [
      "100%|██████████| 390/390 [02:33<00:00,  2.54it/s]\n",
      "  0%|          | 0/390 [00:00<?, ?it/s]"
     ]
    },
    {
     "name": "stdout",
     "output_type": "stream",
     "text": [
      "Epoch   9 | Time   162 | Train Loss 0.6545 | Test Loss 0.876 | Test acc 73.92\n"
     ]
    },
    {
     "name": "stderr",
     "output_type": "stream",
     "text": [
      "100%|██████████| 390/390 [02:32<00:00,  2.55it/s]\n",
      "  0%|          | 0/390 [00:00<?, ?it/s]"
     ]
    },
    {
     "name": "stdout",
     "output_type": "stream",
     "text": [
      "Epoch  10 | Time   161 | Train Loss 0.6156 | Test Loss 0.865 | Test acc 78.20\n"
     ]
    },
    {
     "name": "stderr",
     "output_type": "stream",
     "text": [
      "100%|██████████| 390/390 [02:30<00:00,  2.59it/s]\n",
      "  0%|          | 0/390 [00:00<?, ?it/s]"
     ]
    },
    {
     "name": "stdout",
     "output_type": "stream",
     "text": [
      "Epoch  11 | Time   159 | Train Loss 0.6366 | Test Loss 1.013 | Test acc 70.94\n"
     ]
    },
    {
     "name": "stderr",
     "output_type": "stream",
     "text": [
      "100%|██████████| 390/390 [02:31<00:00,  2.57it/s]\n",
      "  0%|          | 0/390 [00:00<?, ?it/s]"
     ]
    },
    {
     "name": "stdout",
     "output_type": "stream",
     "text": [
      "Epoch  12 | Time   161 | Train Loss 0.6668 | Test Loss 1.006 | Test acc 72.54\n"
     ]
    },
    {
     "name": "stderr",
     "output_type": "stream",
     "text": [
      "100%|██████████| 390/390 [02:32<00:00,  2.55it/s]\n",
      "  0%|          | 0/390 [00:00<?, ?it/s]"
     ]
    },
    {
     "name": "stdout",
     "output_type": "stream",
     "text": [
      "Epoch  13 | Time   161 | Train Loss 0.5454 | Test Loss 0.949 | Test acc 78.04\n"
     ]
    },
    {
     "name": "stderr",
     "output_type": "stream",
     "text": [
      "100%|██████████| 390/390 [02:32<00:00,  2.55it/s]\n",
      "  0%|          | 0/390 [00:00<?, ?it/s]"
     ]
    },
    {
     "name": "stdout",
     "output_type": "stream",
     "text": [
      "Epoch  14 | Time   162 | Train Loss 0.5164 | Test Loss 1.075 | Test acc 78.76\n"
     ]
    },
    {
     "name": "stderr",
     "output_type": "stream",
     "text": [
      "100%|██████████| 390/390 [02:32<00:00,  2.56it/s]\n",
      "  0%|          | 0/390 [00:00<?, ?it/s]"
     ]
    },
    {
     "name": "stdout",
     "output_type": "stream",
     "text": [
      "Epoch  15 | Time   161 | Train Loss 0.4440 | Test Loss 0.929 | Test acc 81.36\n"
     ]
    },
    {
     "name": "stderr",
     "output_type": "stream",
     "text": [
      "100%|██████████| 390/390 [02:30<00:00,  2.58it/s]\n",
      "  0%|          | 0/390 [00:00<?, ?it/s]"
     ]
    },
    {
     "name": "stdout",
     "output_type": "stream",
     "text": [
      "Epoch  16 | Time   160 | Train Loss 0.5621 | Test Loss 1.063 | Test acc 73.93\n"
     ]
    },
    {
     "name": "stderr",
     "output_type": "stream",
     "text": [
      "100%|██████████| 390/390 [02:31<00:00,  2.58it/s]\n",
      "  0%|          | 0/390 [00:00<?, ?it/s]"
     ]
    },
    {
     "name": "stdout",
     "output_type": "stream",
     "text": [
      "Epoch  17 | Time   160 | Train Loss 0.5657 | Test Loss 1.008 | Test acc 73.20\n"
     ]
    },
    {
     "name": "stderr",
     "output_type": "stream",
     "text": [
      "100%|██████████| 390/390 [02:33<00:00,  2.54it/s]\n",
      "  0%|          | 0/390 [00:00<?, ?it/s]"
     ]
    },
    {
     "name": "stdout",
     "output_type": "stream",
     "text": [
      "Epoch  18 | Time   163 | Train Loss 0.5825 | Test Loss 1.103 | Test acc 74.78\n"
     ]
    },
    {
     "name": "stderr",
     "output_type": "stream",
     "text": [
      "100%|██████████| 390/390 [02:31<00:00,  2.58it/s]\n",
      "  0%|          | 0/390 [00:00<?, ?it/s]"
     ]
    },
    {
     "name": "stdout",
     "output_type": "stream",
     "text": [
      "Epoch  19 | Time   160 | Train Loss 0.5537 | Test Loss 0.985 | Test acc 80.46\n"
     ]
    },
    {
     "name": "stderr",
     "output_type": "stream",
     "text": [
      "100%|██████████| 390/390 [02:33<00:00,  2.54it/s]\n",
      "  0%|          | 0/390 [00:00<?, ?it/s]"
     ]
    },
    {
     "name": "stdout",
     "output_type": "stream",
     "text": [
      "Epoch  20 | Time   162 | Train Loss 0.5666 | Test Loss 1.043 | Test acc 78.37\n"
     ]
    },
    {
     "name": "stderr",
     "output_type": "stream",
     "text": [
      "100%|██████████| 390/390 [02:31<00:00,  2.57it/s]\n",
      "  0%|          | 0/390 [00:00<?, ?it/s]"
     ]
    },
    {
     "name": "stdout",
     "output_type": "stream",
     "text": [
      "Epoch  21 | Time   161 | Train Loss 0.5172 | Test Loss 1.002 | Test acc 81.09\n"
     ]
    },
    {
     "name": "stderr",
     "output_type": "stream",
     "text": [
      "100%|██████████| 390/390 [02:30<00:00,  2.59it/s]\n",
      "  0%|          | 0/390 [00:00<?, ?it/s]"
     ]
    },
    {
     "name": "stdout",
     "output_type": "stream",
     "text": [
      "Epoch  22 | Time   159 | Train Loss 0.4891 | Test Loss 1.202 | Test acc 77.63\n"
     ]
    },
    {
     "name": "stderr",
     "output_type": "stream",
     "text": [
      "100%|██████████| 390/390 [02:30<00:00,  2.60it/s]\n",
      "  0%|          | 0/390 [00:00<?, ?it/s]"
     ]
    },
    {
     "name": "stdout",
     "output_type": "stream",
     "text": [
      "Epoch  23 | Time   159 | Train Loss 0.5266 | Test Loss 1.175 | Test acc 73.70\n"
     ]
    },
    {
     "name": "stderr",
     "output_type": "stream",
     "text": [
      "100%|██████████| 390/390 [02:29<00:00,  2.60it/s]\n",
      "  0%|          | 0/390 [00:00<?, ?it/s]"
     ]
    },
    {
     "name": "stdout",
     "output_type": "stream",
     "text": [
      "Epoch  24 | Time   158 | Train Loss 0.4903 | Test Loss 0.961 | Test acc 81.17\n"
     ]
    },
    {
     "name": "stderr",
     "output_type": "stream",
     "text": [
      "100%|██████████| 390/390 [02:29<00:00,  2.60it/s]\n",
      "  0%|          | 0/390 [00:00<?, ?it/s]"
     ]
    },
    {
     "name": "stdout",
     "output_type": "stream",
     "text": [
      "Epoch  25 | Time   158 | Train Loss 0.5799 | Test Loss 1.150 | Test acc 78.74\n"
     ]
    },
    {
     "name": "stderr",
     "output_type": "stream",
     "text": [
      "100%|██████████| 390/390 [02:30<00:00,  2.60it/s]\n",
      "  0%|          | 0/390 [00:00<?, ?it/s]"
     ]
    },
    {
     "name": "stdout",
     "output_type": "stream",
     "text": [
      "Epoch  26 | Time   159 | Train Loss 0.5092 | Test Loss 1.093 | Test acc 81.71\n"
     ]
    },
    {
     "name": "stderr",
     "output_type": "stream",
     "text": [
      "100%|██████████| 390/390 [02:29<00:00,  2.61it/s]\n",
      "  0%|          | 0/390 [00:00<?, ?it/s]"
     ]
    },
    {
     "name": "stdout",
     "output_type": "stream",
     "text": [
      "Epoch  27 | Time   158 | Train Loss 0.5791 | Test Loss 1.167 | Test acc 84.14\n"
     ]
    },
    {
     "name": "stderr",
     "output_type": "stream",
     "text": [
      "100%|██████████| 390/390 [02:30<00:00,  2.58it/s]\n",
      "  0%|          | 0/390 [00:00<?, ?it/s]"
     ]
    },
    {
     "name": "stdout",
     "output_type": "stream",
     "text": [
      "Epoch  28 | Time   160 | Train Loss 0.5264 | Test Loss 1.041 | Test acc 83.41\n"
     ]
    },
    {
     "name": "stderr",
     "output_type": "stream",
     "text": [
      "100%|██████████| 390/390 [02:31<00:00,  2.57it/s]\n",
      "  0%|          | 0/390 [00:00<?, ?it/s]"
     ]
    },
    {
     "name": "stdout",
     "output_type": "stream",
     "text": [
      "Epoch  29 | Time   160 | Train Loss 0.4702 | Test Loss 1.238 | Test acc 75.33\n"
     ]
    },
    {
     "name": "stderr",
     "output_type": "stream",
     "text": [
      "100%|██████████| 390/390 [02:32<00:00,  2.56it/s]\n",
      "  0%|          | 0/390 [00:00<?, ?it/s]"
     ]
    },
    {
     "name": "stdout",
     "output_type": "stream",
     "text": [
      "Epoch  30 | Time   161 | Train Loss 0.4677 | Test Loss 1.077 | Test acc 82.36\n"
     ]
    },
    {
     "name": "stderr",
     "output_type": "stream",
     "text": [
      "100%|██████████| 390/390 [02:30<00:00,  2.59it/s]\n",
      "  0%|          | 0/390 [00:00<?, ?it/s]"
     ]
    },
    {
     "name": "stdout",
     "output_type": "stream",
     "text": [
      "Epoch  31 | Time   159 | Train Loss 0.5116 | Test Loss 1.041 | Test acc 83.18\n"
     ]
    },
    {
     "name": "stderr",
     "output_type": "stream",
     "text": [
      "100%|██████████| 390/390 [02:31<00:00,  2.58it/s]\n",
      "  0%|          | 0/390 [00:00<?, ?it/s]"
     ]
    },
    {
     "name": "stdout",
     "output_type": "stream",
     "text": [
      "Epoch  32 | Time   160 | Train Loss 0.5013 | Test Loss 1.086 | Test acc 79.31\n"
     ]
    },
    {
     "name": "stderr",
     "output_type": "stream",
     "text": [
      "100%|██████████| 390/390 [02:30<00:00,  2.59it/s]\n",
      "  0%|          | 0/390 [00:00<?, ?it/s]"
     ]
    },
    {
     "name": "stdout",
     "output_type": "stream",
     "text": [
      "Epoch  33 | Time   159 | Train Loss 0.4992 | Test Loss 1.114 | Test acc 83.25\n"
     ]
    },
    {
     "name": "stderr",
     "output_type": "stream",
     "text": [
      "100%|██████████| 390/390 [02:30<00:00,  2.59it/s]\n",
      "  0%|          | 0/390 [00:00<?, ?it/s]"
     ]
    },
    {
     "name": "stdout",
     "output_type": "stream",
     "text": [
      "Epoch  34 | Time   159 | Train Loss 0.5101 | Test Loss 1.222 | Test acc 79.07\n"
     ]
    },
    {
     "name": "stderr",
     "output_type": "stream",
     "text": [
      "100%|██████████| 390/390 [02:30<00:00,  2.59it/s]\n",
      "  0%|          | 0/390 [00:00<?, ?it/s]"
     ]
    },
    {
     "name": "stdout",
     "output_type": "stream",
     "text": [
      "Epoch  35 | Time   159 | Train Loss 0.4810 | Test Loss 1.112 | Test acc 81.12\n"
     ]
    },
    {
     "name": "stderr",
     "output_type": "stream",
     "text": [
      "100%|██████████| 390/390 [02:32<00:00,  2.56it/s]\n",
      "  0%|          | 0/390 [00:00<?, ?it/s]"
     ]
    },
    {
     "name": "stdout",
     "output_type": "stream",
     "text": [
      "Epoch  36 | Time   161 | Train Loss 0.5412 | Test Loss 1.061 | Test acc 72.78\n"
     ]
    },
    {
     "name": "stderr",
     "output_type": "stream",
     "text": [
      "100%|██████████| 390/390 [03:39<00:00,  1.77it/s]\n",
      "  0%|          | 0/390 [00:00<?, ?it/s]"
     ]
    },
    {
     "name": "stdout",
     "output_type": "stream",
     "text": [
      "Epoch  37 | Time   231 | Train Loss 0.4682 | Test Loss 1.108 | Test acc 84.18\n"
     ]
    },
    {
     "name": "stderr",
     "output_type": "stream",
     "text": [
      "100%|██████████| 390/390 [03:17<00:00,  1.97it/s]\n",
      "  0%|          | 0/390 [00:00<?, ?it/s]"
     ]
    },
    {
     "name": "stdout",
     "output_type": "stream",
     "text": [
      "Epoch  38 | Time   210 | Train Loss 0.4581 | Test Loss 1.102 | Test acc 81.17\n"
     ]
    },
    {
     "name": "stderr",
     "output_type": "stream",
     "text": [
      "100%|██████████| 390/390 [04:17<00:00,  1.51it/s]\n",
      "  0%|          | 0/390 [00:00<?, ?it/s]"
     ]
    },
    {
     "name": "stdout",
     "output_type": "stream",
     "text": [
      "Epoch  39 | Time   274 | Train Loss 0.5055 | Test Loss 1.109 | Test acc 76.93\n"
     ]
    },
    {
     "name": "stderr",
     "output_type": "stream",
     "text": [
      " 72%|███████▏  | 280/390 [03:20<01:18,  1.40it/s]\n"
     ]
    },
    {
     "ename": "KeyboardInterrupt",
     "evalue": "",
     "output_type": "error",
     "traceback": [
      "\u001b[0;31m---------------------------------------------------------------------------\u001b[0m",
      "\u001b[0;31mKeyboardInterrupt\u001b[0m                         Traceback (most recent call last)",
      "\u001b[0;32m/tmp/ipykernel_33394/1959858289.py\u001b[0m in \u001b[0;36m<module>\u001b[0;34m\u001b[0m\n\u001b[0;32m----> 1\u001b[0;31m train_model(epochs, framework, train_loader, test_loader,  method_name=method_name, save_path=save_path,\n\u001b[0m\u001b[1;32m      2\u001b[0m                 save_weights=True, to_file=True, to_string=True)\n",
      "\u001b[0;32m~/work/logitnorm_tool/models/utils.py\u001b[0m in \u001b[0;36mtrain_model\u001b[0;34m(epochs, alg_obj, train_loader, test_loader, method_name, save_path, save_weights, to_file, to_string)\u001b[0m\n\u001b[1;32m    235\u001b[0m \u001b[0;34m\u001b[0m\u001b[0m\n\u001b[1;32m    236\u001b[0m         \u001b[0mbegin_epoch\u001b[0m \u001b[0;34m=\u001b[0m \u001b[0mtime\u001b[0m\u001b[0;34m.\u001b[0m\u001b[0mtime\u001b[0m\u001b[0;34m(\u001b[0m\u001b[0;34m)\u001b[0m\u001b[0;34m\u001b[0m\u001b[0;34m\u001b[0m\u001b[0m\n\u001b[0;32m--> 237\u001b[0;31m         \u001b[0mstate\u001b[0m\u001b[0;34m[\u001b[0m\u001b[0;34m'train_loss'\u001b[0m\u001b[0;34m]\u001b[0m \u001b[0;34m=\u001b[0m \u001b[0malg_obj\u001b[0m\u001b[0;34m.\u001b[0m\u001b[0mtrain\u001b[0m\u001b[0;34m(\u001b[0m\u001b[0mtrain_loader\u001b[0m\u001b[0;34m)\u001b[0m\u001b[0;34m\u001b[0m\u001b[0;34m\u001b[0m\u001b[0m\n\u001b[0m\u001b[1;32m    238\u001b[0m         \u001b[0mstate\u001b[0m\u001b[0;34m[\u001b[0m\u001b[0;34m'test_loss'\u001b[0m\u001b[0;34m]\u001b[0m\u001b[0;34m,\u001b[0m \u001b[0mstate\u001b[0m\u001b[0;34m[\u001b[0m\u001b[0;34m'test_accuracy'\u001b[0m\u001b[0;34m]\u001b[0m \u001b[0;34m=\u001b[0m \u001b[0malg_obj\u001b[0m\u001b[0;34m.\u001b[0m\u001b[0mtest\u001b[0m\u001b[0;34m(\u001b[0m\u001b[0mtest_loader\u001b[0m\u001b[0;34m)\u001b[0m\u001b[0;34m\u001b[0m\u001b[0;34m\u001b[0m\u001b[0m\n\u001b[1;32m    239\u001b[0m \u001b[0;34m\u001b[0m\u001b[0m\n",
      "\u001b[0;32m~/work/logitnorm_tool/models/utils.py\u001b[0m in \u001b[0;36mtrain\u001b[0;34m(self, train_loader)\u001b[0m\n\u001b[1;32m    139\u001b[0m             \u001b[0mself\u001b[0m\u001b[0;34m.\u001b[0m\u001b[0moptimizer_model\u001b[0m\u001b[0;34m.\u001b[0m\u001b[0mstep\u001b[0m\u001b[0;34m(\u001b[0m\u001b[0;34m)\u001b[0m\u001b[0;34m\u001b[0m\u001b[0;34m\u001b[0m\u001b[0m\n\u001b[1;32m    140\u001b[0m             \u001b[0;31m# exponential moving average\u001b[0m\u001b[0;34m\u001b[0m\u001b[0;34m\u001b[0m\u001b[0m\n\u001b[0;32m--> 141\u001b[0;31m             \u001b[0mloss_avg\u001b[0m \u001b[0;34m=\u001b[0m \u001b[0mloss_avg\u001b[0m \u001b[0;34m*\u001b[0m \u001b[0;36m0.8\u001b[0m \u001b[0;34m+\u001b[0m \u001b[0mfloat\u001b[0m\u001b[0;34m(\u001b[0m\u001b[0mloss\u001b[0m\u001b[0;34m)\u001b[0m \u001b[0;34m*\u001b[0m \u001b[0;36m0.2\u001b[0m\u001b[0;34m\u001b[0m\u001b[0;34m\u001b[0m\u001b[0m\n\u001b[0m\u001b[1;32m    142\u001b[0m \u001b[0;34m\u001b[0m\u001b[0m\n\u001b[1;32m    143\u001b[0m         \u001b[0mself\u001b[0m\u001b[0;34m.\u001b[0m\u001b[0mscheduler\u001b[0m\u001b[0;34m.\u001b[0m\u001b[0mstep\u001b[0m\u001b[0;34m(\u001b[0m\u001b[0;34m)\u001b[0m\u001b[0;34m\u001b[0m\u001b[0;34m\u001b[0m\u001b[0m\n",
      "\u001b[0;31mKeyboardInterrupt\u001b[0m: "
     ]
    }
   ],
   "source": [
    "train_model(epochs, framework, train_loader, test_loader,  method_name=method_name, save_path=save_path,\n",
    "                save_weights=True, to_file=True, to_string=True)"
   ]
  }
 ],
 "metadata": {
  "kernelspec": {
   "display_name": "Python 3",
   "language": "python",
   "name": "python3"
  },
  "language_info": {
   "codemirror_mode": {
    "name": "ipython",
    "version": 3
   },
   "file_extension": ".py",
   "mimetype": "text/x-python",
   "name": "python",
   "nbconvert_exporter": "python",
   "pygments_lexer": "ipython3",
   "version": "3.10.6"
  },
  "orig_nbformat": 4,
  "vscode": {
   "interpreter": {
    "hash": "916dbcbb3f70747c44a77c7bcd40155683ae19c65e1c03b4aa3499c5328201f1"
   }
  }
 },
 "nbformat": 4,
 "nbformat_minor": 2
}
